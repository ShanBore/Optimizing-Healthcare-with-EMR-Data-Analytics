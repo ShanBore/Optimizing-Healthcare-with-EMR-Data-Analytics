{
  "nbformat": 4,
  "nbformat_minor": 0,
  "metadata": {
    "colab": {
      "provenance": [],
      "authorship_tag": "ABX9TyNM7eAq/Alyv6buym7LtWVq",
      "include_colab_link": true
    },
    "kernelspec": {
      "name": "python3",
      "display_name": "Python 3"
    },
    "language_info": {
      "name": "python"
    }
  },
  "cells": [
    {
      "cell_type": "markdown",
      "metadata": {
        "id": "view-in-github",
        "colab_type": "text"
      },
      "source": [
        "<a href=\"https://colab.research.google.com/github/ShanBore/Patient-Healthcare-Analysis/blob/main/EMR_data_generation.ipynb\" target=\"_parent\"><img src=\"https://colab.research.google.com/assets/colab-badge.svg\" alt=\"Open In Colab\"/></a>"
      ]
    },
    {
      "cell_type": "code",
      "execution_count": 13,
      "metadata": {
        "colab": {
          "base_uri": "https://localhost:8080/"
        },
        "id": "XDYPylju296X",
        "outputId": "fc25c99e-f4e8-4a71-e8cd-21baaf4856aa"
      },
      "outputs": [
        {
          "output_type": "stream",
          "name": "stdout",
          "text": [
            "Requirement already satisfied: faker in /usr/local/lib/python3.10/dist-packages (28.1.0)\n",
            "Requirement already satisfied: python-dateutil>=2.4 in /usr/local/lib/python3.10/dist-packages (from faker) (2.8.2)\n",
            "Requirement already satisfied: six>=1.5 in /usr/local/lib/python3.10/dist-packages (from python-dateutil>=2.4->faker) (1.16.0)\n"
          ]
        }
      ],
      "source": [
        "import pandas as pd\n",
        "import numpy as np\n",
        "import random\n",
        "!pip install faker\n",
        "from faker import Faker\n",
        "\n",
        "# Initialize Faker for generating synthetic data.\n",
        "fake = Faker()\n",
        "\n",
        "# Setting seed for reproducibility.\n",
        "np.random.seed(42)\n",
        "random.seed(42)\n",
        "\n",
        "# Number of records.\n",
        "num_records = 10000"
      ]
    },
    {
      "cell_type": "code",
      "source": [
        "# List of realistic medication names.\n",
        "medication = [\n",
        "    'Atorvastatin', 'Levothyroxine', 'Lisinopril', 'Metformin', 'Amlodipine',\n",
        "    'Metoprolol', 'Omeprazole', 'Simvastatin', 'Losartan', 'Albuterol',\n",
        "    'Gabapentin', 'Hydrochlorothiazide', 'Sertraline', 'Furosemide', 'Fluticasone',\n",
        "    'Amoxicillin', 'Prednisone', 'Montelukast', 'Pantoprazole', 'Escitalopram']"
      ],
      "metadata": {
        "id": "GcahXO5-36wy"
      },
      "execution_count": 14,
      "outputs": []
    },
    {
      "cell_type": "code",
      "source": [
        "# Redefine realistic data generation functions.\n",
        "def age_distribution():\n",
        "    age = int(np.random.normal(50, 20))\n",
        "    return max(0, min(100, age))\n",
        "\n",
        "def gender_distribution():\n",
        "    return np.random.choice(['Male', 'Female'], p=[0.49, 0.51])\n",
        "\n",
        "def race_distribution():\n",
        "    return np.random.choice(\n",
        "        ['White', 'Black or African American', 'Asian', 'Hispanic or Latino', 'Other'],\n",
        "        p=[0.6, 0.13, 0.06, 0.18, 0.03]\n",
        "    )"
      ],
      "metadata": {
        "id": "498Ivgqe3_bN"
      },
      "execution_count": 15,
      "outputs": []
    },
    {
      "cell_type": "code",
      "source": [
        "def length_of_stay():\n",
        "    return int(np.random.exponential(3))\n",
        "\n",
        "def icd10_code():\n",
        "    common_diagnoses = ['E11.9', 'I10', 'J06.9', 'M54.5', 'N39.0', 'R10.9']\n",
        "    return np.random.choice(common_diagnoses)\n",
        "\n",
        "def cpt_code():\n",
        "    common_procedures = ['99213', '99214', '20610', '93000', '71020', '73630']\n",
        "    return np.random.choice(common_procedures)\n",
        "\n",
        "def insurance_distribution():\n",
        "    return np.random.choice(['Private', 'Medicare', 'Medicaid', 'Uninsured'], p=[0.4, 0.3, 0.2, 0.1])"
      ],
      "metadata": {
        "id": "Pzx0QdJY4AnB"
      },
      "execution_count": 16,
      "outputs": []
    },
    {
      "cell_type": "code",
      "source": [
        "def generate_vital_signs():\n",
        "    bp_systolic = int(np.random.normal(120, 15))\n",
        "    bp_diastolic = int(np.random.normal(80, 10))\n",
        "    heart_rate = int(np.random.normal(70, 10))\n",
        "    temperature = round(np.random.normal(98.6, 0.7), 1)\n",
        "    return {\n",
        "        'Blood Pressure': f\"{bp_systolic}/{bp_diastolic}\",\n",
        "        'Heart Rate': heart_rate,\n",
        "        'Temperature': temperature\n",
        "    }"
      ],
      "metadata": {
        "id": "WUkU5Aa84LAY"
      },
      "execution_count": 17,
      "outputs": []
    },
    {
      "cell_type": "code",
      "source": [
        "def generate_lab_results():\n",
        "    glucose = int(np.random.normal(100, 20))\n",
        "    cholesterol = int(np.random.normal(200, 40))\n",
        "    return {\n",
        "        'Blood Glucose': glucose,\n",
        "        'Cholesterol': cholesterol\n",
        "    }"
      ],
      "metadata": {
        "id": "MLbazxtK4NFI"
      },
      "execution_count": 18,
      "outputs": []
    },
    {
      "cell_type": "code",
      "source": [
        "def hospital_department():\n",
        "    return np.random.choice(['ER', 'Cardiology', 'Oncology', 'Pediatrics', 'Orthopedics'], p=[0.3, 0.2, 0.1, 0.2, 0.2])\n",
        "\n",
        "def source_system():\n",
        "    return np.random.choice(['System A', 'System B', 'System C'], p=[0.4, 0.3, 0.3])"
      ],
      "metadata": {
        "id": "2RBzjwzS4Qhb"
      },
      "execution_count": 19,
      "outputs": []
    },
    {
      "cell_type": "code",
      "source": [
        "# Generate refined synthetic EMR data.\n",
        "refined_data = {\n",
        "    'Patient ID': [fake.unique.uuid4() for _ in range(num_records)],\n",
        "    'Age': [age_distribution() for _ in range(num_records)],\n",
        "    'Gender': [gender_distribution() for _ in range(num_records)],\n",
        "    'Race': [race_distribution() for _ in range(num_records)],\n",
        "    'Primary Diagnosis': [icd10_code() for _ in range(num_records)],\n",
        "    'Secondary Diagnosis 1': [icd10_code() if np.random.rand() > 0.7 else None for _ in range(num_records)],\n",
        "    'Secondary Diagnosis 2': [icd10_code() if np.random.rand() > 0.85 else None for _ in range(num_records)],\n",
        "    'Medication': [np.random.choice(medication) for _ in range(num_records)],\n",
        "    'Procedure Code': [cpt_code() for _ in range(num_records)],\n",
        "    'Visit Date': [fake.date_between(start_date='-2y', end_date='today') for _ in range(num_records)],\n",
        "    'Discharge Date': [fake.date_between(start_date='-2y', end_date='today') if np.random.rand() > 0.5 else None for _ in range(num_records)],\n",
        "    'Length of Stay': [length_of_stay() for _ in range(num_records)],\n",
        "    'Insurance Type': [insurance_distribution() for _ in range(num_records)],\n",
        "    'Physician ID': [fake.unique.uuid4() for _ in range(num_records)],\n",
        "    'Hospital Department': [hospital_department() for _ in range(num_records)],\n",
        "    'Source System': [source_system() for _ in range(num_records)]\n",
        "}"
      ],
      "metadata": {
        "id": "gc-Y10JJ4QdB"
      },
      "execution_count": 20,
      "outputs": []
    },
    {
      "cell_type": "markdown",
      "source": [],
      "metadata": {
        "id": "n86oo-qr3-Ws"
      }
    },
    {
      "cell_type": "code",
      "source": [
        "# Convert refined data to DataFrame.\n",
        "df_refined = pd.DataFrame(refined_data)\n",
        "\n",
        "# Extract vital signs and lab results into separate columns.\n",
        "df_refined['Blood Pressure'] = [generate_vital_signs()['Blood Pressure'] for _ in range(num_records)]\n",
        "df_refined['Heart Rate'] = [generate_vital_signs()['Heart Rate'] for _ in range(num_records)]\n",
        "df_refined['Temperature'] = [generate_vital_signs()['Temperature'] for _ in range(num_records)]\n",
        "df_refined['Blood Glucose'] = [generate_lab_results()['Blood Glucose'] for _ in range(num_records)]\n",
        "df_refined['Cholesterol'] = [generate_lab_results()['Cholesterol'] for _ in range(num_records)]"
      ],
      "metadata": {
        "id": "TOukaNYF4app"
      },
      "execution_count": 21,
      "outputs": []
    },
    {
      "cell_type": "code",
      "source": [
        "# Save the DataFrame to CSV.\n",
        "df_refined.to_csv('emr_data.csv', index=False)\n",
        "\n",
        "print(\"Dataset generated and saved as 'emr_data.csv'\")"
      ],
      "metadata": {
        "colab": {
          "base_uri": "https://localhost:8080/"
        },
        "id": "hc_J57Wy4drn",
        "outputId": "670e8d36-0446-495c-eb70-d04415668c5f"
      },
      "execution_count": 22,
      "outputs": [
        {
          "output_type": "stream",
          "name": "stdout",
          "text": [
            "Dataset generated and saved as 'emr_data.csv'\n"
          ]
        }
      ]
    }
  ]
}